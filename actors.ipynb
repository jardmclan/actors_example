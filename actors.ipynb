{
 "cells": [
  {
   "cell_type": "code",
   "execution_count": null,
   "metadata": {},
   "outputs": [],
   "source": [
    "import getpass\n",
    "from datetime import datetime, timedelta\n",
    "from tapipy.tapis import Tapis\n",
    "from time import time_ns\n",
    "import random\n",
    "from random import randint\n",
    "import pandas as pd\n",
    "from io import StringIO\n",
    "import matplotlib.pyplot as plt\n",
    "import matplotlib.dates as md"
   ]
  },
  {
   "cell_type": "markdown",
   "metadata": {},
   "source": [
    "# 1. Connect to Tapis\n",
    "---\n",
    "First well connect to Tapis and create a unique ID for this workshop. Make sure to use the username and password that you signed up for on the google sheets. This was sent out with the email for the workshop."
   ]
  },
  {
   "cell_type": "code",
   "execution_count": null,
   "metadata": {},
   "outputs": [],
   "source": [
    "username = getpass.getpass(prompt = \"Username: \", stream = None)\n",
    "password = getpass.getpass(prompt = \"Password: \", stream = None)\n",
    "\n",
    "base_url = \"https://training.tapis.io\"\n",
    "\n",
    "client = Tapis(\n",
    "    base_url = base_url, \n",
    "    username = username,\n",
    "    password = password\n",
    ") \n",
    "\n",
    "#generate access token\n",
    "client.get_tokens()"
   ]
  },
  {
   "cell_type": "code",
   "execution_count": null,
   "metadata": {},
   "outputs": [],
   "source": [
    "unique_id = f\"{username}_{str(time_ns())[-10:]}\""
   ]
  },
  {
   "cell_type": "code",
   "execution_count": null,
   "metadata": {},
   "outputs": [],
   "source": [
    "#Create a storage system in Tapis so we can upload and download data from our server\n",
    "#NOTE you system id needs to be unique across Tapis\n",
    "system_id = \"training_tutorial_vm_\" + unique_id\n",
    "system_config = {\n",
    "    \"id\": system_id,\n",
    "    \"description\": \"VM storage\",\n",
    "    \"host\": \"149.165.153.42\",\n",
    "    \"systemType\": \"LINUX\",\n",
    "    \"defaultAuthnMethod\": \"PASSWORD\",\n",
    "    \"effectiveUserId\": username,\n",
    "    \"rootDir\": f\"/home/{username}/\",\n",
    "    \"canExec\": False\n",
    "}\n",
    "\n",
    "system = client.systems.createSystem(**system_config)"
   ]
  },
  {
   "cell_type": "code",
   "execution_count": null,
   "metadata": {},
   "outputs": [],
   "source": [
    "# Add login credentials so Tapis can access the system - NORMALLY WE USED SSH KEYS but for this tutorial we will utilize the password auth\n",
    "client.systems.createUserCredential(systemId = system_id,userName = username, password = password)"
   ]
  },
  {
   "cell_type": "code",
   "execution_count": null,
   "metadata": {},
   "outputs": [],
   "source": [
    "#Create an Actor that we can pass to a channel to execute when a threshold triggers\n",
    "actor = client.actors.create_actor(\n",
    "    image = \"mcleanj/workshop_actor\",\n",
    "    name = f\"Plot Streams Data {unique_id}\",\n",
    "    description = \"Actor that plots streams measurements.\",\n",
    "    default_environment = {\"system_id\": system_id, \"destination_path\": \"/\"}\n",
    ")"
   ]
  },
  {
   "cell_type": "code",
   "execution_count": null,
   "metadata": {},
   "outputs": [],
   "source": [
    "client.actors.get_actor(actor_id = actor.id)"
   ]
  },
  {
   "cell_type": "code",
   "execution_count": null,
   "metadata": {},
   "outputs": [],
   "source": [
    "#Create a Channel to check for our Temperature exceeding 100- then execute an Actor to generate a plot and upload to our system\n",
    "channel_id = f\"demo.tapis.channel-{unique_id}\"\n",
    "channel = client.streams.create_channels(channel_id=channel_id, \n",
    "                            channel_name=channel_id, \n",
    "                            template_id=\"default_threshold\",\n",
    "                            triggers_with_actions=[\n",
    "                                {\"inst_ids\":[inst_id],\n",
    "                                \"condition\":{\"key\":inst_id+\".temperature\",\n",
    "                                              \"operator\":\">\", \n",
    "                                              \"val\":100},\n",
    "                                 \"action\":{\"method\":\"ACTOR\",\"actor_id\" : my_actor.id,\n",
    "                                           \"message\":\"Instrument: exceeded Temperature threshold\"}}])\n",
    "channel"
   ]
  },
  {
   "cell_type": "code",
   "execution_count": null,
   "metadata": {},
   "outputs": [],
   "source": [
    "client.streams.list_channels()"
   ]
  },
  {
   "cell_type": "code",
   "execution_count": null,
   "metadata": {},
   "outputs": [],
   "source": [
    "#create measurement to trigger channel\n",
    "variables = [{\"temperature\": 230,\n",
    "    \"rainfall\": 0,\n",
    "    \"datetime\": datetime.now().isoformat()\n",
    "}]\n",
    "#write observations to measurements endpoint for our instrument\n",
    "result = client.streams.create_measurement(inst_id=inst_id, vars=variables)\n",
    "result"
   ]
  },
  {
   "cell_type": "code",
   "execution_count": null,
   "metadata": {},
   "outputs": [],
   "source": [
    "#List the Alerts issued on our Channel\n",
    "client.streams.list_alerts(channel_id=channel.channel_id)"
   ]
  },
  {
   "cell_type": "code",
   "execution_count": null,
   "metadata": {},
   "outputs": [],
   "source": [
    "#Fetch the latest alert and assign to a variable\n",
    "alert = client.streams.list_alerts(channel_id=channel.channel_id).alerts[0]"
   ]
  },
  {
   "cell_type": "code",
   "execution_count": null,
   "metadata": {},
   "outputs": [],
   "source": [
    "#Fetch our Actor execution log\n",
    "client.actors.get_execution_logs(actor_id=alert.actor_id, \n",
    "                                 execution_id=alert.execution_id)"
   ]
  }
 ],
 "metadata": {
  "kernelspec": {
   "display_name": "Python 3 (ipykernel)",
   "language": "python",
   "name": "python3"
  },
  "language_info": {
   "codemirror_mode": {
    "name": "ipython",
    "version": 3
   },
   "file_extension": ".py",
   "mimetype": "text/x-python",
   "name": "python",
   "nbconvert_exporter": "python",
   "pygments_lexer": "ipython3",
   "version": "3.9.12"
  }
 },
 "nbformat": 4,
 "nbformat_minor": 4
}
